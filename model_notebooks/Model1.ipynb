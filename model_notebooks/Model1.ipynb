{
 "cells": [
  {
   "cell_type": "code",
   "execution_count": 159,
   "metadata": {},
   "outputs": [],
   "source": [
    "from sklearn.mixture import GaussianMixture\n",
    "from scipy.stats import multivariate_normal\n",
    "\n",
    "import data_io.DataLoader\n",
    "reload(data_io.DataLoader)\n",
    "from data_io.DataLoader import DataLoader\n",
    "\n",
    "from matplotlib import pyplot as plt\n",
    "import numpy as np\n",
    "\n",
    "import model1\n",
    "reload(model1)\n",
    "from model1 import Model1\n",
    "\n",
    "from sklearn.preprocessing import StandardScaler\n",
    "from sklearn.decomposition import PCA"
   ]
  },
  {
   "cell_type": "code",
   "execution_count": 4,
   "metadata": {
    "collapsed": true
   },
   "outputs": [],
   "source": [
    "dl = DataLoader(\"/Users/iankurgarg/Code/Vision/Project-1/image-classification/images\")\n",
    "\n",
    "face, non_face = dl.load_data(train=1)"
   ]
  },
  {
   "cell_type": "code",
   "execution_count": 51,
   "metadata": {},
   "outputs": [
    {
     "name": "stdout",
     "output_type": "stream",
     "text": [
      "(1000, 3600)\n",
      "(1000, 3600)\n",
      "(2000, 3600)\n"
     ]
    }
   ],
   "source": [
    "print face.shape\n",
    "print non_face.shape\n",
    "\n",
    "trainX = np.concatenate((face, non_face))\n",
    "trainY = [1]*1000 + [0]*1000\n",
    "print trainX.shape"
   ]
  },
  {
   "cell_type": "code",
   "execution_count": 42,
   "metadata": {
    "collapsed": true
   },
   "outputs": [],
   "source": [
    "mean_face = np.mean(face, axis=0)"
   ]
  },
  {
   "cell_type": "code",
   "execution_count": 43,
   "metadata": {},
   "outputs": [
    {
     "data": {
      "image/png": "[encoded data removed]",
      "text/plain": [
       "<matplotlib.figure.Figure at 0x125185050>"
      ]
     },
     "metadata": {},
     "output_type": "display_data"
    }
   ],
   "source": [
    "plt.imshow(mean_face.reshape((60,60)), cmap=\"gray\");\n",
    "plt.show();"
   ]
  },
  {
   "cell_type": "code",
   "execution_count": 73,
   "metadata": {},
   "outputs": [
    {
     "data": {
      "image/png": "[encoded data removed]",
      "text/plain": [
       "<matplotlib.figure.Figure at 0x125227410>"
      ]
     },
     "metadata": {},
     "output_type": "display_data"
    }
   ],
   "source": [
    "cov_face = np.cov(face, rowvar=False)\n",
    "\n",
    "cov_diag = np.diag(cov_face)\n",
    "plt.imshow(cov_diag.reshape((60,60)), cmap=\"gray\");\n",
    "plt.show();"
   ]
  },
  {
   "cell_type": "code",
   "execution_count": 45,
   "metadata": {},
   "outputs": [
    {
     "name": "stdout",
     "output_type": "stream",
     "text": [
      "(3600,)\n",
      "(3600, 3600)\n"
     ]
    }
   ],
   "source": [
    "print mean_face.shape\n",
    "print cov_face.shape"
   ]
  },
  {
   "cell_type": "code",
   "execution_count": 52,
   "metadata": {
    "collapsed": true
   },
   "outputs": [],
   "source": [
    "scaler_model = StandardScaler()\n",
    "scaledX = scaler_model.fit_transform(trainX, trainY)"
   ]
  },
  {
   "cell_type": "code",
   "execution_count": 100,
   "metadata": {},
   "outputs": [
    {
     "data": {
      "text/plain": [
       "(2000, 3600)"
      ]
     },
     "execution_count": 100,
     "metadata": {},
     "output_type": "execute_result"
    }
   ],
   "source": [
    "scaledX.shape"
   ]
  },
  {
   "cell_type": "code",
   "execution_count": 101,
   "metadata": {
    "collapsed": true
   },
   "outputs": [],
   "source": [
    "pca_model = PCA(n_components=70)\n",
    "pcaX = pca_model.fit_transform(scaledX)"
   ]
  },
  {
   "cell_type": "code",
   "execution_count": 104,
   "metadata": {},
   "outputs": [
    {
     "name": "stdout",
     "output_type": "stream",
     "text": [
      "(70, 3600)\n",
      "(2000, 70)\n"
     ]
    }
   ],
   "source": [
    "print pca_model.components_.shape\n",
    "print pcaX.shape"
   ]
  },
  {
   "cell_type": "code",
   "execution_count": 105,
   "metadata": {},
   "outputs": [
    {
     "name": "stdout",
     "output_type": "stream",
     "text": [
      "0.947556426936\n"
     ]
    }
   ],
   "source": [
    "# First 70 features explain approximately 95% variance.\n",
    "print pca_model.explained_variance_ratio_[:70].sum()"
   ]
  },
  {
   "cell_type": "code",
   "execution_count": 106,
   "metadata": {},
   "outputs": [
    {
     "name": "stdout",
     "output_type": "stream",
     "text": [
      "(1000, 70)\n"
     ]
    }
   ],
   "source": [
    "pca_face = pcaX[:1000]\n",
    "pca_non_face = pcaX[1000:]\n",
    "\n",
    "print pca_non_face.shape"
   ]
  },
  {
   "cell_type": "code",
   "execution_count": 107,
   "metadata": {
    "collapsed": true
   },
   "outputs": [],
   "source": [
    "mean_faceX = np.mean(pca_face, axis=0)\n",
    "cov_faceX = np.cov(pca_face, rowvar=False)\n",
    "\n",
    "mean_non_faceX = np.mean(pca_non_face, axis=0)\n",
    "cov_non_faceX = np.cov(pca_non_face, rowvar=False)"
   ]
  },
  {
   "cell_type": "code",
   "execution_count": 108,
   "metadata": {
    "collapsed": true
   },
   "outputs": [],
   "source": [
    "dist1 = multivariate_normal(mean=mean_faceX, cov=cov_faceX)\n",
    "dist2 = multivariate_normal(mean=mean_non_faceX, cov=cov_non_faceX)"
   ]
  },
  {
   "cell_type": "code",
   "execution_count": 143,
   "metadata": {},
   "outputs": [
    {
     "data": {
      "text/plain": [
       "1"
      ]
     },
     "execution_count": 143,
     "metadata": {},
     "output_type": "execute_result"
    }
   ],
   "source": [
    "len(test_faces[0].shape)"
   ]
  },
  {
   "cell_type": "code",
   "execution_count": 121,
   "metadata": {
    "collapsed": true
   },
   "outputs": [],
   "source": [
    "def predict(img):\n",
    "    img = img.reshape(1, -1)\n",
    "    scaled_img = scaler_model.transform(img)\n",
    "    pca_img = pca_model.transform(scaled_img)\n",
    "    a = dist1.pdf(pca_img)\n",
    "    b = dist2.pdf(pca_img)\n",
    "    \n",
    "    return a / (a+b)\n",
    "    "
   ]
  },
  {
   "cell_type": "code",
   "execution_count": null,
   "metadata": {
    "collapsed": true
   },
   "outputs": [],
   "source": [
    "test_faces, test_non_faces = dl.load_data(train=0)"
   ]
  },
  {
   "cell_type": "code",
   "execution_count": 138,
   "metadata": {},
   "outputs": [],
   "source": [
    "false_negatives = 0\n",
    "for i in range(100):\n",
    "    img = test_faces[i]\n",
    "    p = predict(img)\n",
    "    if (p < 0.5):\n",
    "        false_negatives += 1"
   ]
  },
  {
   "cell_type": "code",
   "execution_count": 139,
   "metadata": {},
   "outputs": [
    {
     "data": {
      "text/plain": [
       "0"
      ]
     },
     "execution_count": 139,
     "metadata": {},
     "output_type": "execute_result"
    }
   ],
   "source": [
    "false_negatives"
   ]
  },
  {
   "cell_type": "code",
   "execution_count": 5,
   "metadata": {
    "collapsed": true
   },
   "outputs": [],
   "source": []
  },
  {
   "cell_type": "code",
   "execution_count": null,
   "metadata": {
    "collapsed": true
   },
   "outputs": [],
   "source": []
  },
  {
   "cell_type": "code",
   "execution_count": null,
   "metadata": {
    "collapsed": true
   },
   "outputs": [],
   "source": []
  },
  {
   "cell_type": "code",
   "execution_count": null,
   "metadata": {
    "collapsed": true
   },
   "outputs": [],
   "source": []
  },
  {
   "cell_type": "code",
   "execution_count": 82,
   "metadata": {
    "collapsed": true
   },
   "outputs": [],
   "source": []
  },
  {
   "cell_type": "code",
   "execution_count": 117,
   "metadata": {},
   "outputs": [
    {
     "name": "stdout",
     "output_type": "stream",
     "text": [
      "(1, 3600)\n",
      "(1, 3600)\n",
      "(1, 70)\n"
     ]
    }
   ],
   "source": [
    "img = test_non_faces[0]\n",
    "img = img.reshape(1, -1)\n",
    "print img.shape\n",
    "scaled_img = scaler_model.transform(img)\n",
    "print scaled_img.shape\n",
    "pca_img = pca_model.transform(scaled_img)\n",
    "print pca_img.shape"
   ]
  },
  {
   "cell_type": "code",
   "execution_count": null,
   "metadata": {},
   "outputs": [],
   "source": []
  },
  {
   "cell_type": "code",
   "execution_count": 118,
   "metadata": {},
   "outputs": [
    {
     "name": "stdout",
     "output_type": "stream",
     "text": [
      "3.13315883809e-67 5.63196753519e-42\n"
     ]
    }
   ],
   "source": [
    "a = dist1.pdf(pca_img)\n",
    "b = dist2.pdf(pca_img)\n",
    "print a , b"
   ]
  },
  {
   "cell_type": "code",
   "execution_count": null,
   "metadata": {
    "collapsed": true
   },
   "outputs": [],
   "source": [
    "# mean_face = np.mean(faces, axis=0)\n",
    "mean_face = faces[999]"
   ]
  },
  {
   "cell_type": "code",
   "execution_count": null,
   "metadata": {
    "collapsed": true
   },
   "outputs": [],
   "source": [
    "mean_face = dl.unflatten_images([mean_face])[0]"
   ]
  },
  {
   "cell_type": "code",
   "execution_count": null,
   "metadata": {
    "collapsed": true
   },
   "outputs": [],
   "source": [
    "mean_face.shape"
   ]
  },
  {
   "cell_type": "code",
   "execution_count": null,
   "metadata": {
    "collapsed": true
   },
   "outputs": [],
   "source": [
    "plt.imshow(mean_face); plt.show()"
   ]
  },
  {
   "cell_type": "code",
   "execution_count": 160,
   "metadata": {},
   "outputs": [],
   "source": [
    "m = Model1()\n",
    "m.fit(face, non_face)"
   ]
  },
  {
   "cell_type": "code",
   "execution_count": 166,
   "metadata": {},
   "outputs": [],
   "source": [
    "testX = np.concatenate((test_faces, test_non_faces))\n",
    "predicted = m.predict(testX)\n",
    "actual = [1]*len(test_faces) + [0]*len(test_non_faces)"
   ]
  },
  {
   "cell_type": "code",
   "execution_count": 167,
   "metadata": {},
   "outputs": [
    {
     "name": "stdout",
     "output_type": "stream",
     "text": [
      "100 80 20 0\n"
     ]
    }
   ],
   "source": [
    "print m.true_positives(actual, predicted), m.true_negatives(actual, predicted), m.false_positives(actual, predicted), m.false_negatives(actual, predicted)"
   ]
  },
  {
   "cell_type": "code",
   "execution_count": null,
   "metadata": {
    "collapsed": true
   },
   "outputs": [],
   "source": []
  }
 ],
 "metadata": {
  "kernelspec": {
   "display_name": "Python 2",
   "language": "python",
   "name": "python2"
  },
  "language_info": {
   "codemirror_mode": {
    "name": "ipython",
    "version": 2
   },
   "file_extension": ".py",
   "mimetype": "text/x-python",
   "name": "python",
   "nbconvert_exporter": "python",
   "pygments_lexer": "ipython2",
   "version": "2.7.14"
  }
 },
 "nbformat": 4,
 "nbformat_minor": 2
}
